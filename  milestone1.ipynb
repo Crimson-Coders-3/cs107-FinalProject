{
 "cells": [
  {
   "cell_type": "markdown",
   "metadata": {},
   "source": [
    "# Milestone 1 (C++)"
   ]
  },
  {
   "cell_type": "markdown",
   "metadata": {},
   "source": [
    "## 1 Functionalities\n",
    "1. One Function (single varaible)\n",
    "\n",
    "Input: Vector of Strings\n",
    "\n",
    "Output: AutoObject"
   ]
  },
  {
   "cell_type": "raw",
   "metadata": {},
   "source": [
    "#include <math.h>  \n",
    "#include<string>\n",
    "#include \"autoD.h\"\n",
    "\n",
    "using namespace std; \n",
    "    \n",
    "AutoObject o = autoD([\"pow(x, 3)\"]);\n",
    "                      -----------\n",
    "                      expressions, a vector of original functions\n",
    "                      in this example, there is only one expression\n",
    "\n",
    "AutoObject attributes\n",
    "o.df: [[ o.df[i][j] ]]\n",
    "      a vector of vecotr of partial derivative functions, \n",
    "      i represents the ith expression\n",
    "      j represents the jth variable\n",
    "\n",
    "      for this example:\n",
    "      autoObject.df[0][0]:  a partial derviative of pow(x, 3) with respect to x, \n",
    "                            input: a vector of variables [x] -> output: a scalar, 3*pow(x,2)\n",
    "                            e.g. autoObject.df[0][0]([3]) -> 3*pow(3,2) = 27\n",
    "                                 autoObject.df[0][0]([2]) -> 3*pow(2,2) = 12\n",
    "              \n",
    "o.f: a vector of evaluation functions\n",
    "              \n",
    "      in this example:\n",
    "      o.f[0]: the original function\n",
    "              input: a vector of variables [x] -> output: a scalar, pow(x,3)\n",
    "              e.g. o.f([2]) -> pow(2,3) = 8\n",
    "              \n",
    "o.var: a vector of variables, corresponding the order of autoObject.df\n",
    "       [\"x\"]"
   ]
  },
  {
   "cell_type": "markdown",
   "metadata": {},
   "source": [
    "2. One Function (multiple variables)"
   ]
  },
  {
   "cell_type": "raw",
   "metadata": {},
   "source": [
    "AutoObject o = autoD([\"pow(x, 3)+y\"]);\n",
    "                      -------------\n",
    "                      still only one expression in the vector\n",
    "\n",
    "AutoObject attributes\n",
    "o.df: [[ o.df[i][j] ]]\n",
    "      a vector of vecotr of partial derivative functions, \n",
    "      i represents the ith expression\n",
    "      j represents the jth variable\n",
    "\n",
    "      for this example:\n",
    "      o.df[0][0]:  a partial derviative of pow(x, 3)+y with respect to x, \n",
    "                    input: a vector of variables [x,y] -> output: a scalar, 3*pow(x,2)\n",
    "                    e.g. o.df[0][0]([3,1]) -> 3*pow(3,2) = 27\n",
    "                         o.df[0][0]([2,1]) -> 3*pow(2,2) = 12\n",
    "      o.df[0][1]:  a partial derviative of pow(x, 3)+y with respect to y, \n",
    "                    input: a vector of variables [x,y] -> output: a scalar, 1\n",
    "                    e.g. o.df[0][1]([3,1]) -> 1\n",
    "                         o.df[0][1]([2,1]) -> 1\n",
    "              \n",
    "o.f: a vector of evaluation functions\n",
    "              \n",
    "      in this example:\n",
    "      o.f[0]: the original function\n",
    "              input: a vector of variables [x,y] -> output: a scalar, pow(x,3)+1\n",
    "              e.g. o.f([2,1]) -> pow(2,3)+1 = 9\n",
    "              \n",
    "o.var: a vector of variables, [\"x\",\"y\"]"
   ]
  },
  {
   "cell_type": "markdown",
   "metadata": {},
   "source": [
    "3. One Function (multiple variables, using p vector)"
   ]
  },
  {
   "cell_type": "raw",
   "metadata": {},
   "source": [
    "AutoObject o = autoD([\"pow(x, 3)+y\"],[\"x\",\"y\"],[1,0]);\n",
    "                      -------------   -------  -----\n",
    "                       expressions     vars     p\n",
    "\n",
    "Now the size of o.df equals the size of expressions due to the use of p"
   ]
  },
  {
   "cell_type": "markdown",
   "metadata": {},
   "source": [
    "4. Multiple Functions\n",
    "\n",
    "Generating Jacobian matrix\n",
    "\n",
    "5. Multiple Functions, using p vectors\n",
    "\n",
    "example:"
   ]
  },
  {
   "cell_type": "raw",
   "metadata": {},
   "source": [
    "AutoObject o = autoD([\"pow(x, 3)+y\",\"xy\"],[\"x\",\"y\"],[1,0]);\n",
    "\n",
    "o.f = [funct(x,y -> pow(x,3)+y), funct(x,y -> xy)]\n",
    "o.df = [[funct(x,y -> pow(x,3)), funct(x,y -> 1)],[funct(x,y->y),funct(x,y->x)]]\n",
    "o.var = [\"x\",\"y\"]"
   ]
  },
  {
   "cell_type": "markdown",
   "metadata": {},
   "source": [
    "## 2 Directory Structure\n",
    "\n",
    "ad.h: header file\n",
    "parse.cpp: parsing strings\n",
    "adMath.cpp: overload math operations to get derivate, like sin, cos, pow\n",
    "            eg. sin(x)->cos(x), cos(x)->-sin(x)\n",
    "adChain.cpp: apply chain rule ???"
   ]
  },
  {
   "cell_type": "markdown",
   "metadata": {},
   "source": [
    "## 3 Class\n",
    "\n",
    "### 3.1 Constructor\n",
    "### 3.2 Attributes"
   ]
  },
  {
   "cell_type": "markdown",
   "metadata": {},
   "source": [
    "## 4 User Guide\n",
    "### 4.1 Import\n",
    "### 4.2 Instantiate AD objects"
   ]
  },
  {
   "cell_type": "markdown",
   "metadata": {},
   "source": [
    "## 4 Testing"
   ]
  },
  {
   "cell_type": "markdown",
   "metadata": {},
   "source": [
    "## 5 Extension\n",
    "\n",
    "Takes in a Latex expression and return the automatic differentian of the expression\n",
    "\n",
    "for example,"
   ]
  },
  {
   "cell_type": "raw",
   "metadata": {},
   "source": [
    "$x^3$ returns $3x^2$\n",
    "$\\frac{1}/{x}$ returns $-\\frac{1}/{x^2}$"
   ]
  },
  {
   "cell_type": "markdown",
   "metadata": {},
   "source": []
  }
 ],
 "metadata": {
  "kernelspec": {
   "display_name": "Python 3",
   "language": "python",
   "name": "python3"
  },
  "language_info": {
   "codemirror_mode": {
    "name": "ipython",
    "version": 3
   },
   "file_extension": ".py",
   "mimetype": "text/x-python",
   "name": "python",
   "nbconvert_exporter": "python",
   "pygments_lexer": "ipython3",
   "version": "3.7.6"
  }
 },
 "nbformat": 4,
 "nbformat_minor": 4
}
